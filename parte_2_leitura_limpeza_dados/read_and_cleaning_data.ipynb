{
 "cells": [
  {
   "cell_type": "markdown",
   "id": "damaged-playing",
   "metadata": {},
   "source": [
    "## <center> Leitura e limpeza dos dados de artigos do Medium </center>\n",
    "<img src=\"data_cleaning.png\" width=\"300\">\n",
    "\n",
    "Neste notebook será realizada a limpeza dos dados dos artigos coletados no Medium (colocar link para o notebook de coleta).\n",
    "\n",
    "### Coleta dos dados\n",
    "Os dados foram coletados no dia 03/02/2021 a partir de 7 tags que mais se relacionam com o tema inteligência artificial, são elas: 'AI', 'artificial-intelligence', 'data', 'data-science', 'deep-learning', 'machine-learning', 'neural-networks'\n",
    "Foram extraídas as publicações diárias no período de 01/01/2020 a 31/12/2020.\n",
    "\n",
    "### Estrutura dos dados\n",
    "\n",
    "* Title - título do artigo no card de extração\n",
    "* Subtitle - subtítulo do artigo no card de extração\n",
    "* Image (yes/no)- indica se o artigo possui uma imagem de preview no card de extração\n",
    "* Author - autor do artigo\n",
    "* Publication - título da publicação à qual o artigo está vinculada, para o caso de artigos independentes está marcado como \"No * * publication\"\n",
    "* Year - Month - Day - data em que o artigo foi publicado\n",
    "* Tag - Tag à qual o artigo foi vinculado, lembrando que um artigo pode ser vinculado à até 5 tags\n",
    "* Reading Time- tempo de leitura do artigo\n",
    "* Claps - número de aplausos que o artigo recebeu até a data de coleta dos dados\n",
    "* Comment (yes/no) - indica se a entrda é um comentário em um outro artigo\n",
    "* Story Url - link para o artigo\n",
    "* Author URL - link para a homepage do autor\n"
   ]
  },
  {
   "cell_type": "markdown",
   "id": "acquired-lewis",
   "metadata": {},
   "source": [
    "### Carregando libraries necessárias"
   ]
  },
  {
   "cell_type": "code",
   "execution_count": 1,
   "id": "future-automation",
   "metadata": {},
   "outputs": [],
   "source": [
    "import os \n",
    "import glob\n",
    "import pandas as pd\n",
    "\n",
    "from IPython.core.interactiveshell import InteractiveShell\n",
    "InteractiveShell.ast_node_interactivity = \"all\""
   ]
  },
  {
   "cell_type": "markdown",
   "id": "broadband-state",
   "metadata": {},
   "source": [
    "### Realizando a leitura dos arquivos .csv e criando o dataframe para limpeza"
   ]
  },
  {
   "cell_type": "code",
   "execution_count": 2,
   "id": "growing-jimmy",
   "metadata": {},
   "outputs": [
    {
     "data": {
      "text/plain": [
       "(177714, 14)"
      ]
     },
     "execution_count": 2,
     "metadata": {},
     "output_type": "execute_result"
    }
   ],
   "source": [
    "paths = glob.glob(\"D:\\\\Documentos\\\\Projetos\\\\Sistemas_de_recomendacao\\\\Scrap_medium\\\\by_tag\\\\TAG_SCRAPES/*\")\n",
    "list_ = []\n",
    "for path in paths:\n",
    "    file_list = glob.glob(path + \"/*.csv\")\n",
    "    for file_ in file_list:\n",
    "        df = pd.read_csv(file_,index_col=None, header=0, sep=';')\n",
    "        list_.append(df)\n",
    "\n",
    "artigos_raw = pd.concat(list_)\n",
    "artigos_raw.shape"
   ]
  },
  {
   "cell_type": "code",
   "execution_count": 3,
   "id": "cleared-renaissance",
   "metadata": {},
   "outputs": [
    {
     "data": {
      "text/html": [
       "<div>\n",
       "<style scoped>\n",
       "    .dataframe tbody tr th:only-of-type {\n",
       "        vertical-align: middle;\n",
       "    }\n",
       "\n",
       "    .dataframe tbody tr th {\n",
       "        vertical-align: top;\n",
       "    }\n",
       "\n",
       "    .dataframe thead th {\n",
       "        text-align: right;\n",
       "    }\n",
       "</style>\n",
       "<table border=\"1\" class=\"dataframe\">\n",
       "  <thead>\n",
       "    <tr style=\"text-align: right;\">\n",
       "      <th></th>\n",
       "      <th>Title</th>\n",
       "      <th>Subtitle</th>\n",
       "      <th>Image</th>\n",
       "      <th>Author</th>\n",
       "      <th>Publication</th>\n",
       "      <th>Year</th>\n",
       "      <th>Month</th>\n",
       "      <th>Day</th>\n",
       "      <th>Tag</th>\n",
       "      <th>Reading_Time</th>\n",
       "      <th>Claps</th>\n",
       "      <th>Comment</th>\n",
       "      <th>url</th>\n",
       "      <th>Author_url</th>\n",
       "    </tr>\n",
       "  </thead>\n",
       "  <tbody>\n",
       "    <tr>\n",
       "      <th>0</th>\n",
       "      <td>How to go from BayesTheorem to Bayesian Inference</td>\n",
       "      <td>NaN</td>\n",
       "      <td>1</td>\n",
       "      <td>JimSpark</td>\n",
       "      <td>Towards Data Science</td>\n",
       "      <td>2020</td>\n",
       "      <td>10</td>\n",
       "      <td>1</td>\n",
       "      <td>AI</td>\n",
       "      <td>10</td>\n",
       "      <td>68</td>\n",
       "      <td>0</td>\n",
       "      <td>https://towardsdatascience.com/how-to-go-from-...</td>\n",
       "      <td>https://towardsdatascience.com/@jimip6c12?sour...</td>\n",
       "    </tr>\n",
       "    <tr>\n",
       "      <th>1</th>\n",
       "      <td>Autoencoders: Overview of Research and Applica...</td>\n",
       "      <td>NaN</td>\n",
       "      <td>1</td>\n",
       "      <td>Branislav Holl nder</td>\n",
       "      <td>Towards Data Science</td>\n",
       "      <td>2020</td>\n",
       "      <td>10</td>\n",
       "      <td>1</td>\n",
       "      <td>AI</td>\n",
       "      <td>10</td>\n",
       "      <td>129</td>\n",
       "      <td>0</td>\n",
       "      <td>https://towardsdatascience.com/autoencoders-ov...</td>\n",
       "      <td>https://towardsdatascience.com/@branislav.holl...</td>\n",
       "    </tr>\n",
       "    <tr>\n",
       "      <th>2</th>\n",
       "      <td>Regarding SingularityNET and the Recent KuCoin...</td>\n",
       "      <td>NaN</td>\n",
       "      <td>1</td>\n",
       "      <td>Ben Goertzel</td>\n",
       "      <td>SingularityNET</td>\n",
       "      <td>2020</td>\n",
       "      <td>10</td>\n",
       "      <td>1</td>\n",
       "      <td>AI</td>\n",
       "      <td>8</td>\n",
       "      <td>320</td>\n",
       "      <td>0</td>\n",
       "      <td>https://blog.singularitynet.io/regarding-singu...</td>\n",
       "      <td>https://blog.singularitynet.io/@ben_90344?sour...</td>\n",
       "    </tr>\n",
       "    <tr>\n",
       "      <th>3</th>\n",
       "      <td>Understand Machine Learning with One Article</td>\n",
       "      <td>Lets dive into one of the most mind-blowing an...</td>\n",
       "      <td>1</td>\n",
       "      <td>Julian Herrera</td>\n",
       "      <td>Towards Data Science</td>\n",
       "      <td>2020</td>\n",
       "      <td>10</td>\n",
       "      <td>1</td>\n",
       "      <td>AI</td>\n",
       "      <td>11</td>\n",
       "      <td>67</td>\n",
       "      <td>0</td>\n",
       "      <td>https://towardsdatascience.com/understand-mach...</td>\n",
       "      <td>https://towardsdatascience.com/@julianh?source...</td>\n",
       "    </tr>\n",
       "    <tr>\n",
       "      <th>4</th>\n",
       "      <td>The End of the World</td>\n",
       "      <td>Below is a conversation I had with OpenAIs GPT...</td>\n",
       "      <td>1</td>\n",
       "      <td>Kirk Ouimet</td>\n",
       "      <td>NaN</td>\n",
       "      <td>2020</td>\n",
       "      <td>10</td>\n",
       "      <td>1</td>\n",
       "      <td>AI</td>\n",
       "      <td>5</td>\n",
       "      <td>60</td>\n",
       "      <td>0</td>\n",
       "      <td>https://medium.com/@kirkouimet/the-end-of-the-...</td>\n",
       "      <td>https://medium.com/@kirkouimet?source=tag_arch...</td>\n",
       "    </tr>\n",
       "  </tbody>\n",
       "</table>\n",
       "</div>"
      ],
      "text/plain": [
       "                                               Title  \\\n",
       "0  How to go from BayesTheorem to Bayesian Inference   \n",
       "1  Autoencoders: Overview of Research and Applica...   \n",
       "2  Regarding SingularityNET and the Recent KuCoin...   \n",
       "3       Understand Machine Learning with One Article   \n",
       "4                               The End of the World   \n",
       "\n",
       "                                            Subtitle  Image  \\\n",
       "0                                                NaN      1   \n",
       "1                                                NaN      1   \n",
       "2                                                NaN      1   \n",
       "3  Lets dive into one of the most mind-blowing an...      1   \n",
       "4  Below is a conversation I had with OpenAIs GPT...      1   \n",
       "\n",
       "                Author           Publication  Year  Month  Day Tag  \\\n",
       "0             JimSpark  Towards Data Science  2020     10    1  AI   \n",
       "1  Branislav Holl nder  Towards Data Science  2020     10    1  AI   \n",
       "2         Ben Goertzel        SingularityNET  2020     10    1  AI   \n",
       "3       Julian Herrera  Towards Data Science  2020     10    1  AI   \n",
       "4          Kirk Ouimet                   NaN  2020     10    1  AI   \n",
       "\n",
       "   Reading_Time Claps  Comment  \\\n",
       "0            10    68        0   \n",
       "1            10   129        0   \n",
       "2             8   320        0   \n",
       "3            11    67        0   \n",
       "4             5    60        0   \n",
       "\n",
       "                                                 url  \\\n",
       "0  https://towardsdatascience.com/how-to-go-from-...   \n",
       "1  https://towardsdatascience.com/autoencoders-ov...   \n",
       "2  https://blog.singularitynet.io/regarding-singu...   \n",
       "3  https://towardsdatascience.com/understand-mach...   \n",
       "4  https://medium.com/@kirkouimet/the-end-of-the-...   \n",
       "\n",
       "                                          Author_url  \n",
       "0  https://towardsdatascience.com/@jimip6c12?sour...  \n",
       "1  https://towardsdatascience.com/@branislav.holl...  \n",
       "2  https://blog.singularitynet.io/@ben_90344?sour...  \n",
       "3  https://towardsdatascience.com/@julianh?source...  \n",
       "4  https://medium.com/@kirkouimet?source=tag_arch...  "
      ]
     },
     "execution_count": 3,
     "metadata": {},
     "output_type": "execute_result"
    }
   ],
   "source": [
    "artigos_raw.head()\n",
    "#df_trat_2 = df_trat.drop_duplicates(subset=['Title','Subtitle', 'Author', 'Publication', 'Year', 'Month', 'Day', 'url'])"
   ]
  },
  {
   "cell_type": "code",
   "execution_count": 4,
   "id": "dutch-manor",
   "metadata": {},
   "outputs": [
    {
     "data": {
      "text/plain": [
       "Title           object\n",
       "Subtitle        object\n",
       "Image            int64\n",
       "Author          object\n",
       "Publication     object\n",
       "Year             int64\n",
       "Month            int64\n",
       "Day              int64\n",
       "Tag             object\n",
       "Reading_Time     int64\n",
       "Claps           object\n",
       "Comment          int64\n",
       "url             object\n",
       "Author_url      object\n",
       "dtype: object"
      ]
     },
     "execution_count": 4,
     "metadata": {},
     "output_type": "execute_result"
    }
   ],
   "source": [
    "artigos_raw.dtypes"
   ]
  },
  {
   "cell_type": "markdown",
   "id": "gothic-guard",
   "metadata": {},
   "source": [
    "### Reformatando o campo \"Claps\" para float\n",
    "No campo \"Claps\" os casos maiores que 999 são abreviados com \"K\", por exemplo, 2000 é escrito como 2K. Aqui vamos remover o \"K\", converter o campo de string para float e multiplicar por 1000."
   ]
  },
  {
   "cell_type": "code",
   "execution_count": 5,
   "id": "indian-occasions",
   "metadata": {
    "scrolled": true
   },
   "outputs": [
    {
     "name": "stdout",
     "output_type": "stream",
     "text": [
      "Clap dtype:  float64\n"
     ]
    }
   ],
   "source": [
    "numeric_claps = []\n",
    "for x in artigos_raw.Claps:\n",
    "    if \"K\" in str([x]):\n",
    "        numeric_claps.append(float(x[:-1])*1000)\n",
    "    else:\n",
    "        numeric_claps.append(x)\n",
    "artigos_raw[\"Claps\"] = numeric_claps\n",
    "artigos_raw[\"Claps\"] = pd.to_numeric(artigos_raw[\"Claps\"])\n",
    "print(\"Clap dtype: \", artigos_raw.dtypes[\"Claps\"])"
   ]
  },
  {
   "cell_type": "code",
   "execution_count": 6,
   "id": "growing-authorization",
   "metadata": {},
   "outputs": [
    {
     "data": {
      "text/plain": [
       "Title            object\n",
       "Subtitle         object\n",
       "Image             int64\n",
       "Author           object\n",
       "Publication      object\n",
       "Year              int64\n",
       "Month             int64\n",
       "Day               int64\n",
       "Tag              object\n",
       "Reading_Time      int64\n",
       "Claps           float64\n",
       "Comment           int64\n",
       "url              object\n",
       "Author_url       object\n",
       "dtype: object"
      ]
     },
     "execution_count": 6,
     "metadata": {},
     "output_type": "execute_result"
    }
   ],
   "source": [
    "artigos_raw.dtypes"
   ]
  },
  {
   "cell_type": "markdown",
   "id": "honey-importance",
   "metadata": {},
   "source": [
    "### Limpando Urls."
   ]
  },
  {
   "cell_type": "code",
   "execution_count": 7,
   "id": "underlying-smith",
   "metadata": {},
   "outputs": [
    {
     "name": "stdout",
     "output_type": "stream",
     "text": [
      "https://towardsdatascience.com/@jimip6c12?source=tag_archive---------0-----------------------\n",
      "https://towardsdatascience.com/@branislav.hollander?source=tag_archive---------1-----------------------\n",
      "https://blog.singularitynet.io/@ben_90344?source=tag_archive---------2-----------------------\n"
     ]
    }
   ],
   "source": [
    "#Antes\n",
    "for i in range(3):\n",
    "    print(artigos_raw.Author_url.values[i])"
   ]
  },
  {
   "cell_type": "code",
   "execution_count": 8,
   "id": "fatal-patrol",
   "metadata": {},
   "outputs": [],
   "source": [
    "artigos_raw.url = artigos_raw.url.str.split(\"?\", expand=True)\n",
    "artigos_raw.Author_url = artigos_raw.Author_url.str.split(\"?\", expand=True)"
   ]
  },
  {
   "cell_type": "code",
   "execution_count": 9,
   "id": "adult-mainstream",
   "metadata": {},
   "outputs": [
    {
     "name": "stdout",
     "output_type": "stream",
     "text": [
      "https://towardsdatascience.com/@jimip6c12\n",
      "https://towardsdatascience.com/@branislav.hollander\n",
      "https://blog.singularitynet.io/@ben_90344\n"
     ]
    }
   ],
   "source": [
    "#Depois\n",
    "for i in range(3):\n",
    "    print(artigos_raw.Author_url.values[i])"
   ]
  },
  {
   "cell_type": "markdown",
   "id": "developing-library",
   "metadata": {},
   "source": [
    "### Checando nulos nos dados\n",
    "#### Quantidade de nulos por coluna\n",
    "Só existem valores nulos nos campos Title, Subtitle, Author e Publication. **NaNs na coluna Publication é porque nem todos os artigos são publicados através de um grupo.**"
   ]
  },
  {
   "cell_type": "code",
   "execution_count": 10,
   "id": "stable-customer",
   "metadata": {},
   "outputs": [
    {
     "name": "stdout",
     "output_type": "stream",
     "text": [
      "Number of NaNs\n"
     ]
    },
    {
     "data": {
      "text/plain": [
       "Title           13063\n",
       "Subtitle        71285\n",
       "Image               0\n",
       "Author            115\n",
       "Publication     84496\n",
       "Year                0\n",
       "Month               0\n",
       "Day                 0\n",
       "Tag                 0\n",
       "Reading_Time        0\n",
       "Claps               0\n",
       "Comment             0\n",
       "url                 0\n",
       "Author_url        115\n",
       "dtype: int64"
      ]
     },
     "execution_count": 10,
     "metadata": {},
     "output_type": "execute_result"
    },
    {
     "name": "stdout",
     "output_type": "stream",
     "text": [
      "\n",
      "Total Entries:   177714\n"
     ]
    }
   ],
   "source": [
    "print(\"Number of NaNs\")\n",
    "artigos_raw.isna().sum()\n",
    "print()\n",
    "print(\"Total Entries:  \", artigos_raw.shape[0])"
   ]
  },
  {
   "cell_type": "markdown",
   "id": "chinese-overall",
   "metadata": {},
   "source": [
    "### NaN nos Títulos e Subtítulo\n",
    "Alguma vezes, quando se raspa os dados, os títulos estão em formatos estranhos. O resultado é que, **alguns títulos são retornados como subtítulo.**\n",
    "\n",
    "Abaixo está uma breve análise de nulos no Título/Subtítulo. **Neste caso, escolheu-se excluir artigos sem títulos e sem autor.**"
   ]
  },
  {
   "cell_type": "code",
   "execution_count": 11,
   "id": "instructional-occasion",
   "metadata": {},
   "outputs": [
    {
     "name": "stdout",
     "output_type": "stream",
     "text": [
      "Total de registros com título nulo:  13063\n",
      "Total de registros com título nulo mas com subtítulo:  4652\n",
      "Registros sem título e subtítulo:  8411\n"
     ]
    }
   ],
   "source": [
    "print(\"Total de registros com título nulo: \", artigos_raw[artigos_raw.Title.isnull()].shape[0])\n",
    "\n",
    "print(\"Total de registros com título nulo mas com subtítulo: \",artigos_raw[(artigos_raw.Title.isnull() & artigos_raw.Subtitle.notnull())].shape[0])\n",
    "\n",
    "print(\"Registros sem título e subtítulo: \", artigos_raw[(artigos_raw.Title.isnull() & artigos_raw.Subtitle.isnull())].shape[0])"
   ]
  },
  {
   "cell_type": "markdown",
   "id": "controversial-belief",
   "metadata": {},
   "source": [
    "### Removendo títulos nulos"
   ]
  },
  {
   "cell_type": "code",
   "execution_count": 12,
   "id": "proved-parish",
   "metadata": {},
   "outputs": [],
   "source": [
    "df_trat = artigos_raw.dropna(subset=[\"Title\"])\n",
    "df_trat = df_trat.dropna(subset=[\"Author\"])"
   ]
  },
  {
   "cell_type": "code",
   "execution_count": 13,
   "id": "present-anxiety",
   "metadata": {},
   "outputs": [
    {
     "data": {
      "text/plain": [
       "(164537, 14)"
      ]
     },
     "execution_count": 13,
     "metadata": {},
     "output_type": "execute_result"
    }
   ],
   "source": [
    "df_trat.shape"
   ]
  },
  {
   "cell_type": "markdown",
   "id": "supposed-marina",
   "metadata": {},
   "source": [
    "### Quantos nulos restaram"
   ]
  },
  {
   "cell_type": "code",
   "execution_count": 14,
   "id": "instrumental-medication",
   "metadata": {},
   "outputs": [
    {
     "name": "stdout",
     "output_type": "stream",
     "text": [
      "Number of NaNs\n"
     ]
    },
    {
     "data": {
      "text/plain": [
       "Title               0\n",
       "Subtitle        62821\n",
       "Image               0\n",
       "Author              0\n",
       "Publication     78871\n",
       "Year                0\n",
       "Month               0\n",
       "Day                 0\n",
       "Tag                 0\n",
       "Reading_Time        0\n",
       "Claps               0\n",
       "Comment             0\n",
       "url                 0\n",
       "Author_url          0\n",
       "dtype: int64"
      ]
     },
     "execution_count": 14,
     "metadata": {},
     "output_type": "execute_result"
    },
    {
     "name": "stdout",
     "output_type": "stream",
     "text": [
      "\n",
      "Total Entries:   164537\n"
     ]
    }
   ],
   "source": [
    "print(\"Number of NaNs\")\n",
    "df_trat.isna().sum()\n",
    "print()\n",
    "print(\"Total Entries:  \", df_trat.shape[0])"
   ]
  },
  {
   "cell_type": "markdown",
   "id": "elegant-insight",
   "metadata": {},
   "source": [
    "### Preenchendo nulos nos campos \"Subtitle\" e \"Publication\"\n",
    "Para estes campo, como nem sempre pode ser obrigatório um artigo possuir uma publicação ou subtítulo, resolveu-se preencher com \"No subtitle\" e \"No publication\" os valores nulos para \"Subtitle\" e \"Publication\", respectivamente."
   ]
  },
  {
   "cell_type": "code",
   "execution_count": 15,
   "id": "religious-technology",
   "metadata": {},
   "outputs": [],
   "source": [
    "df_trat[\"Subtitle\"].fillna(\"No subtitle\", inplace = True)\n",
    "df_trat[\"Publication\"].fillna(\"No publication\", inplace = True)"
   ]
  },
  {
   "cell_type": "code",
   "execution_count": 16,
   "id": "chicken-initial",
   "metadata": {},
   "outputs": [
    {
     "name": "stdout",
     "output_type": "stream",
     "text": [
      "Number of NaNs\n"
     ]
    },
    {
     "data": {
      "text/plain": [
       "Title           0\n",
       "Subtitle        0\n",
       "Image           0\n",
       "Author          0\n",
       "Publication     0\n",
       "Year            0\n",
       "Month           0\n",
       "Day             0\n",
       "Tag             0\n",
       "Reading_Time    0\n",
       "Claps           0\n",
       "Comment         0\n",
       "url             0\n",
       "Author_url      0\n",
       "dtype: int64"
      ]
     },
     "execution_count": 16,
     "metadata": {},
     "output_type": "execute_result"
    },
    {
     "name": "stdout",
     "output_type": "stream",
     "text": [
      "\n",
      "Total Entries:   164537\n"
     ]
    }
   ],
   "source": [
    "print(\"Number of NaNs\")\n",
    "df_trat.isna().sum()\n",
    "print()\n",
    "print(\"Total Entries:  \", df_trat.shape[0])"
   ]
  },
  {
   "cell_type": "markdown",
   "id": "reflected-zoning",
   "metadata": {},
   "source": [
    "### Removendo artigos que porventura tenham sido publicados por mais de um autor e salvando os dados para uso posterior"
   ]
  },
  {
   "cell_type": "code",
   "execution_count": 17,
   "id": "automatic-focus",
   "metadata": {},
   "outputs": [],
   "source": [
    "df_trat_2 = df_trat.drop_duplicates(subset=['Title','Subtitle', 'Publication', 'Year', 'Month', 'url', 'Tag'])"
   ]
  },
  {
   "cell_type": "code",
   "execution_count": 18,
   "id": "loving-definition",
   "metadata": {},
   "outputs": [
    {
     "data": {
      "text/plain": [
       "(164537, 14)"
      ]
     },
     "execution_count": 18,
     "metadata": {},
     "output_type": "execute_result"
    }
   ],
   "source": [
    "df_trat_2.shape"
   ]
  },
  {
   "cell_type": "code",
   "execution_count": 19,
   "id": "blessed-privilege",
   "metadata": {},
   "outputs": [],
   "source": [
    "df_trat_2.to_csv('D:/Documentos/Projetos/Sistemas_de_recomendacao/Scrap_medium/by_tag/recommender_csv/medium_articles_clean.csv', index=False)"
   ]
  }
 ],
 "metadata": {
  "kernelspec": {
   "display_name": "Python 3",
   "language": "python",
   "name": "python3"
  },
  "language_info": {
   "codemirror_mode": {
    "name": "ipython",
    "version": 3
   },
   "file_extension": ".py",
   "mimetype": "text/x-python",
   "name": "python",
   "nbconvert_exporter": "python",
   "pygments_lexer": "ipython3",
   "version": "3.8.7"
  }
 },
 "nbformat": 4,
 "nbformat_minor": 5
}
